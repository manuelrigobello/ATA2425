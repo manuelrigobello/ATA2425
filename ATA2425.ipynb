{
 "cells": [
  {
   "cell_type": "markdown",
   "metadata": {},
   "source": [
    "# ADVANCED TEXT ANALYTICS 2024/2025\n",
    "\n",
    "## Scope of the project\n",
    "Starting from a pre-trained model, the goal of the project is to attach a trained [ner](https://spacy.io/api/entityrecognizer) component to the model such that it will recognize labels coming from the medical field. The code is based on the spaCy Python library ([documentation here](https://spacy.io/api/doc)).\n",
    "\n",
    "To address the [\"catastrophic forgetting\" problem](https://en.wikipedia.org/wiki/Catastrophic_interference), the trained ner component will be attached to a pre-trained model, the same one used for training the component, so that the output of the model will contain labels that can be assigned either by the original ner or by the trained ner component. Another possible solution could be performing a [\"rehease\"](https://spacy.io/api/language#rehearse), but in this project it is not explored."
   ]
  },
  {
   "cell_type": "markdown",
   "metadata": {},
   "source": [
    "<a id='step0'></a>\n",
    "\n",
    "### STEP 0: install required libraries and check  for the GPU\n",
    "Remove the comments to install the libraries required for running this notebook. "
   ]
  },
  {
   "cell_type": "code",
   "execution_count": null,
   "metadata": {},
   "outputs": [],
   "source": [
    "# %pip install spacy"
   ]
  },
  {
   "cell_type": "code",
   "execution_count": null,
   "metadata": {},
   "outputs": [],
   "source": [
    "# %pip install tensorflow"
   ]
  },
  {
   "cell_type": "code",
   "execution_count": null,
   "metadata": {},
   "outputs": [],
   "source": [
    "# %pip install pandas"
   ]
  },
  {
   "cell_type": "code",
   "execution_count": null,
   "metadata": {},
   "outputs": [],
   "source": [
    "# %pip install spacy-transformers"
   ]
  },
  {
   "cell_type": "code",
   "execution_count": null,
   "metadata": {},
   "outputs": [],
   "source": [
    "# !python -m spacy download en_core_web_trf\n",
    "\n",
    "# Probably it is required to restart the Jupyter kernel after this instruction"
   ]
  },
  {
   "cell_type": "markdown",
   "metadata": {},
   "source": [
    "### Installations for NVIDIA GPU"
   ]
  },
  {
   "cell_type": "code",
   "execution_count": null,
   "metadata": {},
   "outputs": [],
   "source": [
    "# %pip install torch torchvision torchaudio --index-url https://download.pytorch.org/whl/cu124"
   ]
  },
  {
   "cell_type": "code",
   "execution_count": null,
   "metadata": {},
   "outputs": [],
   "source": [
    "# %pip install cupy-wheel"
   ]
  },
  {
   "cell_type": "code",
   "execution_count": 1,
   "metadata": {},
   "outputs": [
    {
     "name": "stdout",
     "output_type": "stream",
     "text": [
      "2.18.0 []\n"
     ]
    }
   ],
   "source": [
    "import tensorflow as tf\n",
    "\n",
    "# Check version of tensorflow and if GPU is available\n",
    "print(tf.__version__, tf.config.list_physical_devices('GPU'))"
   ]
  },
  {
   "cell_type": "markdown",
   "metadata": {},
   "source": [
    "### Download required models\n",
    "\n",
    "The models used in this project are:\n",
    "- `en_core_web_lg`: English pipeline optimized for CPU. Components: tok2vec, tagger, parser, senter, ner, attribute_ruler, lemmatizer. Docs: [en_core_web_lg](https://spacy.io/models/en#en_core_web_lg)\n",
    "- `en_core_web_trf`: English transformer pipeline (Transformer(name=‘roberta-base’, piece_encoder=‘byte-bpe’, stride=104, type=‘roberta’, width=768, window=144, vocab_size=50265)). Components: transformer, tagger, parser, ner, attribute_ruler, lemmatizer. Docs: [en_core_web_trf](https://spacy.io/models/en#en_core_web_trf)"
   ]
  },
  {
   "cell_type": "code",
   "execution_count": null,
   "metadata": {},
   "outputs": [],
   "source": [
    "# !python -m spacy download en_core_web_lg"
   ]
  },
  {
   "cell_type": "code",
   "execution_count": null,
   "metadata": {},
   "outputs": [],
   "source": [
    "# !python -m spacy download en_core_web_trf"
   ]
  },
  {
   "cell_type": "markdown",
   "metadata": {},
   "source": [
    "<a id='step1'></a>\n",
    "\n",
    "### STEP 1: prepare training set and dev set\n",
    "\n",
    "In this project we define the **Annotations** that contains the annotations of the articles, and the **Articles** that contains the articles.\n",
    "\n",
    "To upload the data use the following logic:\n",
    "- Store the Annotations Train data inside `./Annotations/Train` folder;\n",
    "- Store the Annotations Dev data inside `./Annotations/Dev` folder.\n",
    "- Store the Articles Train data inside `./Articles/Train` folder;\n",
    "- Store the Articles Dev data inside `./Articles/Dev` folder.\n",
    "\n",
    "[DocBin](https://spacy.io/api/docbin) is used to store and serialize the Doc objects. The train DocBin will be saved in the `./TrainDocBin/train.spacy` file and the dev DocBin in the `./DevDocBin/dev.spacy` file.\n",
    "\n",
    "**Note:** go to [step 2](#step2.0) if you already have the train and dev set well formatted."
   ]
  },
  {
   "cell_type": "code",
   "execution_count": 2,
   "metadata": {},
   "outputs": [],
   "source": [
    "from pathlib import Path\n",
    "import os\n",
    "\n",
    "path = str(Path(os.path.abspath(os.getcwd())).absolute())\n",
    "\n",
    "# print(path)\n",
    "\n",
    "# Open training set\n",
    "with open(path + '/Articles/Train/articles_train.txt','r', encoding='UTF-8') as articlesTrainFile:\n",
    "  articlesTrain = articlesTrainFile.read().split('\\n\\n')\n",
    "  # Remove last empty line if present\n",
    "  if articlesTrain[len(articlesTrain)-1] == '\\n':\n",
    "    articlesTrain = articlesTrain[:len(articlesTrain)-1]\n",
    "\n",
    "with open(path + '/Annotations/Train/entities_train.txt','r', encoding='UTF-8') as entitiesTrainFile:\n",
    "  entitiesTrainFile.readline()\n",
    "  entitiesTrain = entitiesTrainFile.read().split('\\n\\n')\n",
    "  # Remove last empty line if present\n",
    "  if entitiesTrain[len(entitiesTrain)-1] == '\\n':\n",
    "    entitiesTrain = entitiesTrain[:len(entitiesTrain)-1]\n",
    "\n",
    "with open(path + '/Articles/Dev/articles_dev.txt','r', encoding='UTF-8') as articlesDevFile:\n",
    "  articlesDev = articlesDevFile.read().split('\\n\\n')\n",
    "  if articlesDev[len(articlesDev)-1] == '\\n':\n",
    "    articlesDev = articlesDev[:len(articlesDev)-1]\n",
    "\n",
    "with open(path + '/Annotations/Dev/entities_dev.txt','r', encoding='UTF-8') as entitiesDevFile:\n",
    "  entitiesDevFile.readline()\n",
    "  entitiesDev = entitiesDevFile.read().split('\\n\\n')\n",
    "  if entitiesDev[len(entitiesDev)-1] == '\\n':\n",
    "    entitiesDev = entitiesDev[:len(entitiesDev)-1]"
   ]
  },
  {
   "cell_type": "code",
   "execution_count": 3,
   "metadata": {},
   "outputs": [],
   "source": [
    "import re\n",
    "\n",
    "def get_article(text):\n",
    "  article = re.findall(r'a\\|(.*)',text)\n",
    "  return article[0]\n",
    "\n",
    "def get_title(text):\n",
    "  # print(text)\n",
    "  title = re.findall(r't\\|(.*)',text)\n",
    "  return title[0]\n",
    "\n",
    "def get_pmid(text):\n",
    "  pmid = text.split('|', 1)[0]\n",
    "  pmid = re.sub('\\n', '', pmid)\n",
    "  return pmid\n",
    "\n",
    "def calc_article_start(text):\n",
    "  title = re.findall(r't\\|(.*)',text)\n",
    "  return len(title[0]) + 1 # +1 because of space char added between title and abstract\n",
    "\n",
    "# Articles for train data\n",
    "train_id = [get_pmid(x) for x in articlesTrain]\n",
    "train_articles = [get_title(x)+' '+get_article(x) for x in articlesTrain]\n",
    "train_articles_start_at = [calc_article_start(x) for x in articlesTrain]\n",
    "\n",
    "# Articles for test data\n",
    "dev_id = [get_pmid(x) for x in articlesDev]\n",
    "dev_articles = [get_title(x)+' '+get_article(x) for x in articlesDev]\n",
    "dev_articles_start_at = [calc_article_start(x) for x in articlesDev]"
   ]
  },
  {
   "cell_type": "code",
   "execution_count": 4,
   "metadata": {},
   "outputs": [],
   "source": [
    "import pandas as pd\n",
    "\n",
    "train_df = pd.DataFrame(columns=['article', 'articleStartsAt'])\n",
    "train_df['pmid'] = train_id\n",
    "train_df['article'] = train_articles\n",
    "train_df['articleStartsAt'] = train_articles_start_at\n",
    "\n",
    "dev_df = pd.DataFrame(columns=['article'])\n",
    "dev_df['pmid'] = dev_id\n",
    "dev_df['article'] = dev_articles\n",
    "dev_df['articleStartsAt'] = dev_articles_start_at"
   ]
  },
  {
   "cell_type": "code",
   "execution_count": null,
   "metadata": {},
   "outputs": [],
   "source": [
    "train_df.head()"
   ]
  },
  {
   "cell_type": "code",
   "execution_count": null,
   "metadata": {},
   "outputs": [],
   "source": [
    "dev_df.head()"
   ]
  },
  {
   "cell_type": "code",
   "execution_count": 5,
   "metadata": {},
   "outputs": [
    {
     "name": "stdout",
     "output_type": "stream",
     "text": [
      "total train labels:  1566 , total test labels:  40\n"
     ]
    }
   ],
   "source": [
    "def get_labels(dataframe, text):\n",
    "  text = text.strip() # Remove possible \\n at the start/end of the text\n",
    "  l = text.split(\"\\n\")\n",
    "  l = [x.split('\\t') for x in l]\n",
    "  labels = []\n",
    "  index = 0\n",
    "  for i in l:\n",
    "    # print(i)\n",
    "    while dataframe.iloc[index]['pmid'] != i[0]:\n",
    "      index += 1\n",
    "      continue\n",
    "\n",
    "    if i[4] == 'title':\n",
    "      labels.append((int(i[2]), int(i[3])+1, i[6]))\n",
    "    elif i[4] == 'abstract':\n",
    "      # Add shift due to the title length\n",
    "      labels.append((int(i[2]) + int(dataframe.iloc[index]['articleStartsAt']), int(i[3]) + 1 + int(dataframe.iloc[index]['articleStartsAt']), i[6]))\n",
    "  return labels\n",
    "\n",
    "train_labels = [get_labels(train_df, x) for x in entitiesTrain]\n",
    "dev_labels = [get_labels(dev_df, x) for x in entitiesDev]\n",
    "\n",
    "print('total train labels: ', len(train_labels), ', total test labels: ' , len(dev_labels))"
   ]
  },
  {
   "cell_type": "code",
   "execution_count": 6,
   "metadata": {},
   "outputs": [],
   "source": [
    "train_df['labels'] = train_labels\n",
    "dev_df['labels'] = dev_labels"
   ]
  },
  {
   "cell_type": "code",
   "execution_count": null,
   "metadata": {},
   "outputs": [],
   "source": [
    "train_df.head()"
   ]
  },
  {
   "cell_type": "code",
   "execution_count": null,
   "metadata": {},
   "outputs": [],
   "source": [
    "dev_df.head()"
   ]
  },
  {
   "cell_type": "code",
   "execution_count": 9,
   "metadata": {},
   "outputs": [],
   "source": [
    "training_data = []\n",
    "for i, j in zip(train_articles, train_labels):\n",
    "  training_data.append((i, j))\n",
    "\n",
    "# print(training_data[0])\n",
    "\n",
    "dev_data = []\n",
    "for i, j in zip(dev_articles, dev_labels):\n",
    "  dev_data.append((i, j))\n",
    "\n",
    "# print(dev_data[0])"
   ]
  },
  {
   "cell_type": "code",
   "execution_count": 25,
   "metadata": {},
   "outputs": [],
   "source": [
    "import spacy\n",
    "import spacy.training\n",
    "\n",
    "nlp = spacy.load(\"en_core_web_lg\")"
   ]
  },
  {
   "cell_type": "markdown",
   "metadata": {},
   "source": [
    "<a id='step1.1'></a>\n",
    "\n",
    "### STEP 1.1: improve Tokenizer\n",
    "\n",
    "Sometimes a word followed by a punctuation (or viceversa) are not considered as two distinct tokens. To fix this, a custom tokenizer is implemented by adding the list of puctuations to the default prefixes and suffixes lists."
   ]
  },
  {
   "cell_type": "code",
   "execution_count": 36,
   "metadata": {},
   "outputs": [],
   "source": [
    "# Customizing the tokenizer\n",
    "from spacy.tokenizer import Tokenizer\n",
    "import re\n",
    "import string\n",
    "\n",
    "def custom_tokenizer(nlp):\n",
    "  my_punct = f\"[{re.escape(string.punctuation)}]\"\n",
    "  my_punct = my_punct.replace(\"<\", \"\")\n",
    "  my_punct = my_punct.replace(\">\", \"\")\n",
    "  html_tag_pattern = re.compile(r'<[^>]+>')\n",
    "  \n",
    "  further_prefix_re = re.compile(r'[.,;:?!(\\[\\'\"</]')\n",
    "  further_suffix_re = re.compile(r'[.,;:?!)\\]\\'\">■™]')\n",
    "  further_infix_re = re.compile(r'[-/+=&]')\n",
    "\n",
    "  # all_prefixes_re = spacy.util.compile_prefix_regex(tuple(list(nlp.Defaults.prefixes) + [html_tag_pattern.pattern] + [my_punct]))\n",
    "  # infix_re = spacy.util.compile_infix_regex(nlp.Defaults.infixes)\n",
    "  # suffix_re = spacy.util.compile_suffix_regex(tuple(list(nlp.Defaults.suffixes) + [html_tag_pattern.pattern] + [my_punct]))\n",
    "\n",
    "  \n",
    "  # return Tokenizer(nlp.vocab,\n",
    "  #                  nlp.Defaults.tokenizer_exceptions,\n",
    "  #                  prefix_search = all_prefixes_re.search, \n",
    "  #                  infix_finditer = infix_re.finditer,\n",
    "  #                  suffix_search = suffix_re.search,\n",
    "  #                  token_match=None)\n",
    "\n",
    "  return Tokenizer(\n",
    "        nlp.vocab,\n",
    "        prefix_search=further_prefix_re.search,\n",
    "        suffix_search=further_suffix_re.search,\n",
    "        infix_finditer=further_infix_re.finditer\n",
    "    )\n",
    "\n",
    "nlp.tokenizer = custom_tokenizer(nlp=nlp)"
   ]
  },
  {
   "cell_type": "code",
   "execution_count": null,
   "metadata": {},
   "outputs": [],
   "source": [
    "from spacy.tokens import DocBin\n",
    "\n",
    "def save_to_disk(data, dir, filename):\n",
    "  db = DocBin()\n",
    "  for text, annotations in data:\n",
    "    doc = nlp(text)\n",
    "    # sentence_tokens = []\n",
    "    # for sent in doc.sents:\n",
    "    #   sentence_tokens.append([token.text for token in sent])\n",
    "    # print(sentence_tokens)\n",
    "    ents = []\n",
    "    for start, end, label in annotations:\n",
    "      span = doc.char_span(int(start), int(end), label=label)\n",
    "      if not span == None:\n",
    "        ents.append(span)\n",
    "      else:\n",
    "        span = doc.char_span(int(start), int(end), label=label, alignment_mode='expand')\n",
    "        if not span == None:\n",
    "          ents.append(span)\n",
    "        else:\n",
    "          print(\"none\", int(start), int(end), label)\n",
    "    # print(ents)\n",
    "    doc.ents = ents\n",
    "    db.add(doc)\n",
    "\n",
    "  db.to_disk(os.path.join(dir, filename))"
   ]
  },
  {
   "cell_type": "code",
   "execution_count": null,
   "metadata": {},
   "outputs": [],
   "source": [
    "save_to_disk(training_data, os.path.join(path,'TrainDocBin'), \"updated_train.spacy\")\n",
    "save_to_disk(dev_data, os.path.join(path,'DevDocBin'), \"updated_dev.spacy\")"
   ]
  },
  {
   "cell_type": "markdown",
   "metadata": {},
   "source": [
    "<a id='step2'></a>\n",
    "\n",
    "### STEP 2: prepare CUDA and PyTorch\n",
    "\n",
    "If your PC is already set up correctly, then skip to [step 3](#step3).\n",
    "\n",
    "#### Check if CUDA is available\n",
    "The instruction *torch.cuda.is_available()* checks if CUDA is avaiable for running the train on the GPU.\n",
    "If the answer if false, then it means either PyTorch or CUDA or both of them is not installed.\n",
    "\n",
    "#### Install PyTorch\n",
    "To install PyTorch, go to [this link](https://pytorch.org/get-started/locally/), select your preferences (in this case it is important to set a CUDA version as \"Compute Platform\" so that the code will run on the GPU) and then copy-paste the command into the following cell.\n",
    "\n",
    "It might be necessary to restart the runtime.\n",
    "\n",
    "After installing pythorch, *torch.cuda.is_available()* returns true."
   ]
  },
  {
   "cell_type": "code",
   "execution_count": null,
   "metadata": {},
   "outputs": [],
   "source": [
    "# Check if CUDA is available\n",
    "import torch\n",
    "\n",
    "print('is cuda available? ', torch.cuda.is_available())\n",
    "print(torch.__version__)\n",
    "!nvidia-smi"
   ]
  },
  {
   "cell_type": "markdown",
   "metadata": {},
   "source": [
    "<a id='step3'></a>\n",
    "\n",
    "### STEP 3: train the NER component\n",
    "\n",
    "#### Generate config.cfg file\n",
    "Generate the base_config.cfg configuration file that includes all the settings and hyperparameters.\n",
    "In this project the focus is to train only the ner component.\n",
    "The train will be optimized for accuracy over efficiency.\n",
    "Then, save the config to config.cfg file\n",
    "\n",
    "For this project the training is done with an NVIDIA GeForce 4060 laptop with 8GB of VRAM. \n",
    "\n",
    "#### Train en_core_web_trf NER component"
   ]
  },
  {
   "cell_type": "code",
   "execution_count": 50,
   "metadata": {},
   "outputs": [
    {
     "name": "stdout",
     "output_type": "stream",
     "text": [
      "\u001b[38;5;2m✔ Auto-filled config with all values\u001b[0m\n",
      "\u001b[38;5;2m✔ Saved config\u001b[0m\n",
      "config\\trf\\config.cfg\n",
      "You can now add your data and train your pipeline:\n",
      "python -m spacy train config.cfg --paths.train ./train.spacy --paths.dev ./dev.spacy\n"
     ]
    },
    {
     "name": "stderr",
     "output_type": "stream",
     "text": [
      "c:\\Users\\Manuel\\ata-project\\Lib\\site-packages\\transformers\\utils\\generic.py:441: FutureWarning: `torch.utils._pytree._register_pytree_node` is deprecated. Please use `torch.utils._pytree.register_pytree_node` instead.\n",
      "  _torch_pytree._register_pytree_node(\n",
      "c:\\Users\\Manuel\\ata-project\\Lib\\site-packages\\transformers\\utils\\generic.py:309: FutureWarning: `torch.utils._pytree._register_pytree_node` is deprecated. Please use `torch.utils._pytree.register_pytree_node` instead.\n",
      "  _torch_pytree._register_pytree_node(\n"
     ]
    }
   ],
   "source": [
    "!python -m spacy init fill-config ./config/trf/base_config.cfg ./config/trf/config.cfg"
   ]
  },
  {
   "cell_type": "code",
   "execution_count": null,
   "metadata": {},
   "outputs": [
    {
     "name": "stderr",
     "output_type": "stream",
     "text": [
      "c:\\Users\\Manuel\\ata-project\\Scripts\\python.exe: No module named prodigy\n"
     ]
    }
   ],
   "source": [
    "# !python -m prodigy spacy-config config.cfg --ner custom_tok_annotations --base-model custom_tokenizer"
   ]
  },
  {
   "cell_type": "code",
   "execution_count": null,
   "metadata": {},
   "outputs": [],
   "source": [
    "# import spacy\n",
    "# import spacy.training\n",
    "\n",
    "# # Load pre-trained model over which a new training for the ner component will be done\n",
    "# nlp = spacy.load(\"en_core_web_trf\")"
   ]
  },
  {
   "cell_type": "code",
   "execution_count": 51,
   "metadata": {},
   "outputs": [
    {
     "name": "stdout",
     "output_type": "stream",
     "text": [
      "\u001b[38;5;4mℹ Saving to output directory: output\\trf-updated-tokenizer\u001b[0m\n",
      "\u001b[38;5;4mℹ Using GPU: 0\u001b[0m\n",
      "\u001b[1m\n",
      "=========================== Initializing pipeline ===========================\u001b[0m\n",
      "\u001b[38;5;2m✔ Initialized pipeline\u001b[0m\n",
      "\u001b[1m\n",
      "============================= Training pipeline =============================\u001b[0m\n",
      "\u001b[38;5;4mℹ Pipeline: ['transformer', 'ner']\u001b[0m\n",
      "\u001b[38;5;4mℹ Initial learn rate: 0.0\u001b[0m\n",
      "E    #       LOSS TRANS...  LOSS NER  ENTS_F  ENTS_P  ENTS_R  SCORE \n",
      "---  ------  -------------  --------  ------  ------  ------  ------\n",
      "  0       0         878.47   1280.71    0.09    0.05    0.36    0.00\n",
      "  0     200      208792.45  78200.83   60.93   59.52   62.40    0.61\n",
      "  1     400       57264.55  24910.80   76.72   72.42   81.56    0.77\n",
      "  2     600       24456.60  18754.29   75.72   72.81   78.87    0.76\n",
      "  3     800        8841.16  15657.83   80.19   76.21   84.60    0.80\n",
      "  3    1000        7767.24  14247.77   80.48   79.42   81.56    0.80\n",
      "  4    1200        6706.77  12391.82   79.76   77.31   82.36    0.80\n",
      "  5    1400        6200.26  11126.18   79.01   80.94   77.17    0.79\n",
      "  6    1600        5624.27  10110.53   81.02   78.51   83.71    0.81\n",
      "  7    1800        5589.07   9007.34   80.65   77.74   83.80    0.81\n",
      "  7    2000        4367.64   7787.01   80.36   81.43   79.32    0.80\n",
      "  8    2200        4106.40   6843.74   79.93   76.11   84.15    0.80\n",
      "  9    2400        3699.16   6159.70   79.90   76.49   83.62    0.80\n",
      " 10    2600        3216.71   5305.02   81.27   80.98   81.56    0.81\n",
      " 10    2800        3173.39   4751.61   80.12   76.83   83.71    0.80\n",
      " 11    3000        2499.86   4065.23   80.05   77.31   82.99    0.80\n",
      " 12    3200        2696.18   4077.74   80.61   81.39   79.86    0.81\n",
      " 13    3400        2373.53   3570.23   81.15   80.23   82.09    0.81\n",
      " 14    3600        2122.40   3094.87   79.18   75.49   83.26    0.79\n",
      " 14    3800        2428.55   2900.55   80.35   79.44   81.29    0.80\n",
      " 15    4000        1989.17   2549.36   80.74   78.14   83.53    0.81\n",
      " 16    4200        1873.04   2384.59   80.27   76.73   84.15    0.80\n",
      "\u001b[38;5;2m✔ Saved pipeline to output directory\u001b[0m\n",
      "output\\trf-updated-tokenizer\\model-last\n"
     ]
    },
    {
     "name": "stderr",
     "output_type": "stream",
     "text": [
      "c:\\Users\\Manuel\\ata-project\\Lib\\site-packages\\transformers\\utils\\generic.py:441: FutureWarning: `torch.utils._pytree._register_pytree_node` is deprecated. Please use `torch.utils._pytree.register_pytree_node` instead.\n",
      "  _torch_pytree._register_pytree_node(\n",
      "c:\\Users\\Manuel\\ata-project\\Lib\\site-packages\\transformers\\utils\\generic.py:309: FutureWarning: `torch.utils._pytree._register_pytree_node` is deprecated. Please use `torch.utils._pytree.register_pytree_node` instead.\n",
      "  _torch_pytree._register_pytree_node(\n",
      "c:\\Users\\Manuel\\ata-project\\Lib\\site-packages\\huggingface_hub\\file_download.py:795: FutureWarning: `resume_download` is deprecated and will be removed in version 1.0.0. Downloads always resume when possible. If you want to force a new download, use `force_download=True`.\n",
      "  warnings.warn(\n",
      "c:\\Users\\Manuel\\ata-project\\Lib\\site-packages\\transformers\\utils\\generic.py:309: FutureWarning: `torch.utils._pytree._register_pytree_node` is deprecated. Please use `torch.utils._pytree.register_pytree_node` instead.\n",
      "  _torch_pytree._register_pytree_node(\n",
      "Some weights of RobertaModel were not initialized from the model checkpoint at roberta-base and are newly initialized: ['roberta.pooler.dense.bias', 'roberta.pooler.dense.weight']\n",
      "You should probably TRAIN this model on a down-stream task to be able to use it for predictions and inference.\n"
     ]
    }
   ],
   "source": [
    "!python -m spacy train ./config/trf/config.cfg --output ./output/trf-updated-tokenizer --paths.train ./TrainDocBin/updated_train.spacy --paths.dev ./DevDocBin/updated_dev.spacy --gpu-id 0"
   ]
  },
  {
   "cell_type": "code",
   "execution_count": null,
   "metadata": {},
   "outputs": [],
   "source": [
    "unique_labels = set()\n",
    "\n",
    "for example in dev_data:\n",
    "\tentities = example[1]\n",
    "\tfor entity in entities:\n",
    "\t\tentity_label = entity[2]\n",
    "\t\tunique_labels.add(entity_label)\n",
    "        \n",
    "unique_labels_list = list(unique_labels)\n",
    "\n",
    "print('Entities to be recognised in the provided data: ')\n",
    "print(unique_labels_list)"
   ]
  },
  {
   "cell_type": "markdown",
   "metadata": {},
   "source": [
    "### STEP 3.1: evaluate best model"
   ]
  },
  {
   "cell_type": "code",
   "execution_count": 52,
   "metadata": {},
   "outputs": [
    {
     "name": "stdout",
     "output_type": "stream",
     "text": [
      "\u001b[38;5;4mℹ Using GPU: 0\u001b[0m\n",
      "\u001b[1m\n",
      "================================== Results ==================================\u001b[0m\n",
      "\n",
      "TOK     90.71\n",
      "NER P   80.98\n",
      "NER R   81.56\n",
      "NER F   81.27\n",
      "SPEED   1480 \n",
      "\n",
      "\u001b[1m\n",
      "=============================== NER (per type) ===============================\u001b[0m\n",
      "\n",
      "                            P        R       F\n",
      "microbiome              91.79    96.85   94.25\n",
      "DDF                     88.40    84.43   86.37\n",
      "drug                    90.00    90.00   90.00\n",
      "bacteria                71.19    77.78   74.34\n",
      "human                   94.05    91.86   92.94\n",
      "anatomical location     83.75    88.16   85.90\n",
      "chemical                60.36    77.86   68.00\n",
      "biomedical technique    65.38    47.22   54.84\n",
      "gene                    33.33    20.51   25.40\n",
      "statistical technique   37.50   100.00   54.55\n",
      "dietary supplement      71.43    74.07   72.73\n",
      "animal                  82.72    91.78   87.01\n",
      "food                    90.00    34.62   50.00\n",
      "\n"
     ]
    },
    {
     "name": "stderr",
     "output_type": "stream",
     "text": [
      "c:\\Users\\Manuel\\ata-project\\Lib\\site-packages\\transformers\\utils\\generic.py:441: FutureWarning: `torch.utils._pytree._register_pytree_node` is deprecated. Please use `torch.utils._pytree.register_pytree_node` instead.\n",
      "  _torch_pytree._register_pytree_node(\n",
      "c:\\Users\\Manuel\\ata-project\\Lib\\site-packages\\transformers\\utils\\generic.py:309: FutureWarning: `torch.utils._pytree._register_pytree_node` is deprecated. Please use `torch.utils._pytree.register_pytree_node` instead.\n",
      "  _torch_pytree._register_pytree_node(\n",
      "c:\\Users\\Manuel\\ata-project\\Lib\\site-packages\\transformers\\utils\\generic.py:309: FutureWarning: `torch.utils._pytree._register_pytree_node` is deprecated. Please use `torch.utils._pytree.register_pytree_node` instead.\n",
      "  _torch_pytree._register_pytree_node(\n",
      "c:\\Users\\Manuel\\ata-project\\Lib\\site-packages\\spacy_transformers\\layers\\hf_shim.py:124: FutureWarning: You are using `torch.load` with `weights_only=False` (the current default value), which uses the default pickle module implicitly. It is possible to construct malicious pickle data which will execute arbitrary code during unpickling (See https://github.com/pytorch/pytorch/blob/main/SECURITY.md#untrusted-models for more details). In a future release, the default value for `weights_only` will be flipped to `True`. This limits the functions that could be executed during unpickling. Arbitrary objects will no longer be allowed to be loaded via this mode unless they are explicitly allowlisted by the user via `torch.serialization.add_safe_globals`. We recommend you start setting `weights_only=True` for any use case where you don't have full control of the loaded file. Please open an issue on GitHub for any issues related to this experimental feature.\n",
      "  self._model.load_state_dict(torch.load(filelike, map_location=device))\n"
     ]
    }
   ],
   "source": [
    "!spacy evaluate ./output/trf-updated-tokenizer/model-best/ ./DevDocBin/updated_dev.spacy --gpu-id 0"
   ]
  },
  {
   "cell_type": "markdown",
   "metadata": {},
   "source": [
    "<a id='step3'></a>\n",
    "\n",
    "### STEP 3: attach the trained NER comopnent to the original model\n",
    "In the following cell, the trained NER component will be integrated into the original en_core_web_trf model. This combination will allow the final model to label words using a set that includes both the original labels and the newly trained ones."
   ]
  },
  {
   "cell_type": "code",
   "execution_count": null,
   "metadata": {},
   "outputs": [],
   "source": [
    "# Load original model\n",
    "nlp = spacy.load(\"en_core_web_trf\")\n",
    "# Load trained model\n",
    "trained_nlp = spacy.load('./output/model-best')\n",
    "\n",
    "trained_nlp.replace_listeners(\"transformer\", \"ner\", [\"model.tok2vec\"])\n",
    "\n",
    "nlp.add_pipe(\n",
    "  \"ner\",\n",
    "  name=\"trained_ner\",\n",
    "  source=trained_nlp,\n",
    "  before=\"ner\",\n",
    ")\n",
    "\n",
    "print(nlp.pipe_names)"
   ]
  },
  {
   "cell_type": "code",
   "execution_count": null,
   "metadata": {},
   "outputs": [],
   "source": [
    "import spacy.displacy\n",
    "\n",
    "\n",
    "doc = nlp(\"Doc here\")\n",
    "spacy.displacy.render(doc, style=\"ent\", jupyter=True)"
   ]
  },
  {
   "cell_type": "markdown",
   "metadata": {},
   "source": [
    "STEP 4: train using the en_core_web_lg model"
   ]
  },
  {
   "cell_type": "code",
   "execution_count": null,
   "metadata": {},
   "outputs": [],
   "source": []
  }
 ],
 "metadata": {
  "kernelspec": {
   "display_name": "ata-project",
   "language": "python",
   "name": "python3"
  },
  "language_info": {
   "codemirror_mode": {
    "name": "ipython",
    "version": 3
   },
   "file_extension": ".py",
   "mimetype": "text/x-python",
   "name": "python",
   "nbconvert_exporter": "python",
   "pygments_lexer": "ipython3",
   "version": "3.12.7"
  }
 },
 "nbformat": 4,
 "nbformat_minor": 2
}
