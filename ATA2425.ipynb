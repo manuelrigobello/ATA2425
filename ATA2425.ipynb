{
 "cells": [
  {
   "cell_type": "markdown",
   "metadata": {},
   "source": [
    "# ADVANCED TEXT ANALYTICS 2024/2025\n",
    "\n",
    "## Scope of the project\n",
    "Starting from a pre-trained model, the goal of the project is to attach a trained [ner](https://spacy.io/api/entityrecognizer) component to the model such that it will recognize labels coming from the medical field. The code is based on the spaCy Python library ([documentation here](https://spacy.io/api/doc)).\n",
    "\n",
    "To address the [\"catastrophic forgetting\" problem](https://en.wikipedia.org/wiki/Catastrophic_interference), the trained ner component will be attached to a pre-trained model, the same one used for training the component, so that the output of the model will contain labels that can be assigned either by the original ner or by the trained ner component. Another possible solution could be performing a [\"rehease\"](https://spacy.io/api/language#rehearse), but in this project it is not explored."
   ]
  },
  {
   "cell_type": "markdown",
   "metadata": {},
   "source": [
    "<a id='step0'></a>\n",
    "\n",
    "### STEP 0: install required libraries and check  for the GPU\n",
    "Remove the comments to install the libraries required for running this notebook. "
   ]
  },
  {
   "cell_type": "code",
   "execution_count": null,
   "metadata": {},
   "outputs": [],
   "source": [
    "# %pip install spacy"
   ]
  },
  {
   "cell_type": "code",
   "execution_count": null,
   "metadata": {},
   "outputs": [],
   "source": [
    "# %pip install tensorflow"
   ]
  },
  {
   "cell_type": "code",
   "execution_count": null,
   "metadata": {},
   "outputs": [],
   "source": [
    "# %pip install pandas"
   ]
  },
  {
   "cell_type": "code",
   "execution_count": null,
   "metadata": {},
   "outputs": [],
   "source": [
    "# %pip install spacy-transformers"
   ]
  },
  {
   "cell_type": "code",
   "execution_count": null,
   "metadata": {},
   "outputs": [],
   "source": [
    "# !python -m spacy download en_core_web_trf\n",
    "\n",
    "# Probably it is required to restart the Jupyter kernel after this instruction"
   ]
  },
  {
   "cell_type": "markdown",
   "metadata": {},
   "source": [
    "### Installations for NVIDIA GPU"
   ]
  },
  {
   "cell_type": "code",
   "execution_count": null,
   "metadata": {},
   "outputs": [],
   "source": [
    "# %pip install torch torchvision torchaudio --index-url https://download.pytorch.org/whl/cu124"
   ]
  },
  {
   "cell_type": "code",
   "execution_count": null,
   "metadata": {},
   "outputs": [],
   "source": [
    "# %pip install cupy-wheel"
   ]
  },
  {
   "cell_type": "code",
   "execution_count": 1,
   "metadata": {},
   "outputs": [
    {
     "name": "stdout",
     "output_type": "stream",
     "text": [
      "2.18.0 []\n"
     ]
    }
   ],
   "source": [
    "import tensorflow as tf\n",
    "\n",
    "# Check version of tensorflow and if GPU is available\n",
    "print(tf.__version__, tf.config.list_physical_devices('GPU'))"
   ]
  },
  {
   "cell_type": "markdown",
   "metadata": {},
   "source": [
    "### Download required models\n",
    "\n",
    "The models used in this project are:\n",
    "- `en_core_web_lg`: English pipeline optimized for CPU. Components: tok2vec, tagger, parser, senter, ner, attribute_ruler, lemmatizer. Docs: [en_core_web_lg](https://spacy.io/models/en#en_core_web_lg)\n",
    "- `en_core_web_trf`: English transformer pipeline (Transformer(name=‘roberta-base’, piece_encoder=‘byte-bpe’, stride=104, type=‘roberta’, width=768, window=144, vocab_size=50265)). Components: transformer, tagger, parser, ner, attribute_ruler, lemmatizer. Docs: [en_core_web_trf](https://spacy.io/models/en#en_core_web_trf)"
   ]
  },
  {
   "cell_type": "code",
   "execution_count": null,
   "metadata": {},
   "outputs": [],
   "source": [
    "# !python -m spacy download en_core_web_lg"
   ]
  },
  {
   "cell_type": "code",
   "execution_count": null,
   "metadata": {},
   "outputs": [],
   "source": [
    "# !python -m spacy download en_core_web_trf"
   ]
  },
  {
   "cell_type": "markdown",
   "metadata": {},
   "source": [
    "<a id='step1'></a>\n",
    "\n",
    "### STEP 1: prepare training set and dev set\n",
    "\n",
    "In this project we define the **Annotations** that contains the annotations of the articles, and the **Articles** that contains the articles.\n",
    "\n",
    "To upload the data use the following logic:\n",
    "- Store the Annotations Train data inside `./Annotations/Train` folder;\n",
    "- Store the Annotations Dev data inside `./Annotations/Dev` folder.\n",
    "- Store the Articles Train data inside `./Articles/Train` folder;\n",
    "- Store the Articles Dev data inside `./Articles/Dev` folder.\n",
    "\n",
    "[DocBin](https://spacy.io/api/docbin) is used to store and serialize the Doc objects. The train DocBin will be saved in the `./TrainDocBin/train.spacy` file and the dev DocBin in the `./DevDocBin/dev.spacy` file.\n",
    "\n",
    "**Note:** go to [step 2](#step2.0) if you already have the train and dev set well formatted."
   ]
  },
  {
   "cell_type": "code",
   "execution_count": 1,
   "metadata": {},
   "outputs": [],
   "source": [
    "from pathlib import Path\n",
    "import os\n",
    "\n",
    "path = str(Path(os.path.abspath(os.getcwd())).absolute())\n",
    "\n",
    "# print(path)\n",
    "\n",
    "# Open training set\n",
    "with open(path + '/Articles/Train/articles_train.txt','r', encoding='UTF-8') as articlesTrainFile:\n",
    "  articlesTrain = articlesTrainFile.read().split('\\n\\n')\n",
    "  # Remove last empty line if present\n",
    "  if articlesTrain[len(articlesTrain)-1] == '\\n':\n",
    "    articlesTrain = articlesTrain[:len(articlesTrain)-1]\n",
    "\n",
    "with open(path + '/Annotations/Train/entities_train.txt','r', encoding='UTF-8') as entitiesTrainFile:\n",
    "  entitiesTrainFile.readline()\n",
    "  entitiesTrain = entitiesTrainFile.read().split('\\n\\n')\n",
    "  # Remove last empty line if present\n",
    "  if entitiesTrain[len(entitiesTrain)-1] == '\\n':\n",
    "    entitiesTrain = entitiesTrain[:len(entitiesTrain)-1]\n",
    "\n",
    "with open(path + '/Articles/Dev/articles_dev.txt','r', encoding='UTF-8') as articlesDevFile:\n",
    "  articlesDev = articlesDevFile.read().split('\\n\\n')\n",
    "  if articlesDev[len(articlesDev)-1] == '\\n':\n",
    "    articlesDev = articlesDev[:len(articlesDev)-1]\n",
    "\n",
    "with open(path + '/Annotations/Dev/entities_dev.txt','r', encoding='UTF-8') as entitiesDevFile:\n",
    "  entitiesDevFile.readline()\n",
    "  entitiesDev = entitiesDevFile.read().split('\\n\\n')\n",
    "  if entitiesDev[len(entitiesDev)-1] == '\\n':\n",
    "    entitiesDev = entitiesDev[:len(entitiesDev)-1]"
   ]
  },
  {
   "cell_type": "code",
   "execution_count": 2,
   "metadata": {},
   "outputs": [],
   "source": [
    "import re\n",
    "\n",
    "def get_article(text):\n",
    "  article = re.findall(r'a\\|(.*)',text)\n",
    "  return article[0]\n",
    "\n",
    "def get_title(text):\n",
    "  # print(text)\n",
    "  title = re.findall(r't\\|(.*)',text)\n",
    "  return title[0]\n",
    "\n",
    "def get_pmid(text):\n",
    "  pmid = text.split('|', 1)[0]\n",
    "  pmid = re.sub('\\n', '', pmid)\n",
    "  return pmid\n",
    "\n",
    "def calc_article_start(text):\n",
    "  title = re.findall(r't\\|(.*)',text)\n",
    "  return len(title[0]) + 1 # +1 because of space char added between title and abstract\n",
    "\n",
    "# Articles for train data\n",
    "train_id = [get_pmid(x) for x in articlesTrain]\n",
    "train_articles = [get_title(x)+' '+get_article(x) for x in articlesTrain]\n",
    "train_articles_start_at = [calc_article_start(x) for x in articlesTrain]\n",
    "\n",
    "# Articles for test data\n",
    "dev_id = [get_pmid(x) for x in articlesDev]\n",
    "dev_articles = [get_title(x)+' '+get_article(x) for x in articlesDev]\n",
    "dev_articles_start_at = [calc_article_start(x) for x in articlesDev]"
   ]
  },
  {
   "cell_type": "code",
   "execution_count": 3,
   "metadata": {},
   "outputs": [],
   "source": [
    "import pandas as pd\n",
    "\n",
    "train_df = pd.DataFrame(columns=['article', 'articleStartsAt'])\n",
    "train_df['pmid'] = train_id\n",
    "train_df['article'] = train_articles\n",
    "train_df['articleStartsAt'] = train_articles_start_at\n",
    "\n",
    "dev_df = pd.DataFrame(columns=['article'])\n",
    "dev_df['pmid'] = dev_id\n",
    "dev_df['article'] = dev_articles\n",
    "dev_df['articleStartsAt'] = dev_articles_start_at"
   ]
  },
  {
   "cell_type": "code",
   "execution_count": null,
   "metadata": {},
   "outputs": [],
   "source": [
    "train_df.head()"
   ]
  },
  {
   "cell_type": "code",
   "execution_count": null,
   "metadata": {},
   "outputs": [],
   "source": [
    "dev_df.head()"
   ]
  },
  {
   "cell_type": "code",
   "execution_count": 4,
   "metadata": {},
   "outputs": [
    {
     "name": "stdout",
     "output_type": "stream",
     "text": [
      "total train labels:  1566 , total test labels:  40\n"
     ]
    }
   ],
   "source": [
    "def get_labels(dataframe, text):\n",
    "  text = text.strip() # Remove possible \\n at the start/end of the text\n",
    "  l = text.split(\"\\n\")\n",
    "  l = [x.split('\\t') for x in l]\n",
    "  labels = []\n",
    "  index = 0\n",
    "  for i in l:\n",
    "    # print(i)\n",
    "    while dataframe.iloc[index]['pmid'] != i[0]:\n",
    "      index += 1\n",
    "      continue\n",
    "\n",
    "    if i[4] == 'title':\n",
    "      labels.append((int(i[2]), int(i[3])+1, i[6]))\n",
    "    elif i[4] == 'abstract':\n",
    "      # Add shift due to the title length\n",
    "      labels.append((int(i[2]) + int(dataframe.iloc[index]['articleStartsAt']), int(i[3]) + 1 + int(dataframe.iloc[index]['articleStartsAt']), i[6]))\n",
    "  return labels\n",
    "\n",
    "train_labels = [get_labels(train_df, x) for x in entitiesTrain]\n",
    "dev_labels = [get_labels(dev_df, x) for x in entitiesDev]\n",
    "\n",
    "print('total train labels: ', len(train_labels), ', total test labels: ' , len(dev_labels))"
   ]
  },
  {
   "cell_type": "code",
   "execution_count": 5,
   "metadata": {},
   "outputs": [],
   "source": [
    "train_df['labels'] = train_labels\n",
    "dev_df['labels'] = dev_labels"
   ]
  },
  {
   "cell_type": "code",
   "execution_count": null,
   "metadata": {},
   "outputs": [],
   "source": [
    "train_df.head()"
   ]
  },
  {
   "cell_type": "code",
   "execution_count": null,
   "metadata": {},
   "outputs": [],
   "source": [
    "dev_df.head()"
   ]
  },
  {
   "cell_type": "code",
   "execution_count": 6,
   "metadata": {},
   "outputs": [],
   "source": [
    "training_data = []\n",
    "for i, j in zip(train_articles, train_labels):\n",
    "  training_data.append((i, j))\n",
    "\n",
    "# print(training_data[0])\n",
    "\n",
    "dev_data = []\n",
    "for i, j in zip(dev_articles, dev_labels):\n",
    "  dev_data.append((i, j))\n",
    "\n",
    "# print(dev_data[0])"
   ]
  },
  {
   "cell_type": "code",
   "execution_count": 14,
   "metadata": {},
   "outputs": [],
   "source": [
    "import spacy\n",
    "import spacy.training\n",
    "\n",
    "nlp = spacy.load(\"en_core_web_lg\")"
   ]
  },
  {
   "cell_type": "markdown",
   "metadata": {},
   "source": [
    "<a id='step1.1'></a>\n",
    "\n",
    "### STEP 1.1: improve Tokenizer\n",
    "\n",
    "Sometimes a word followed by a punctuation (or viceversa) are not considered as two distinct tokens. To fix this, a custom tokenizer is implemented by adding the list of puctuations to the default prefixes and suffixes lists."
   ]
  },
  {
   "cell_type": "code",
   "execution_count": null,
   "metadata": {},
   "outputs": [],
   "source": [
    "# Customizing the tokenizer\n",
    "from spacy.tokenizer import Tokenizer\n",
    "import re\n",
    "import string\n",
    "\n",
    "def custom_tokenizer(nlp):\n",
    "  my_punct = f\"[{re.escape(string.punctuation)}]\"\n",
    "  # my_punct = my_punct.replace(\"<\", \"\")\n",
    "  # my_punct = my_punct.replace(\">\", \"\")\n",
    "  # html_tag_pattern = re.compile(r'<[^>]+>')\n",
    "\n",
    "  all_prefixes_re = spacy.util.compile_prefix_regex(tuple(list(nlp.Defaults.prefixes) + [html_tag_pattern.pattern] + [my_punct]))\n",
    "  infix_re = spacy.util.compile_infix_regex(nlp.Defaults.infixes)\n",
    "  suffix_re = spacy.util.compile_suffix_regex(tuple(list(nlp.Defaults.suffixes) + [html_tag_pattern.pattern] + [my_punct]))\n",
    "\n",
    "  \n",
    "  return Tokenizer(nlp.vocab,\n",
    "                   nlp.Defaults.tokenizer_exceptions,\n",
    "                   prefix_search = all_prefixes_re.search, \n",
    "                   infix_finditer = infix_re.finditer,\n",
    "                   suffix_search = suffix_re.search,\n",
    "                   token_match=None)\n",
    "\n",
    "nlp.tokenizer = custom_tokenizer(nlp=nlp)"
   ]
  },
  {
   "cell_type": "code",
   "execution_count": null,
   "metadata": {},
   "outputs": [],
   "source": [
    "# Updated version of the tokenizer\n",
    "from spacy.tokenizer import Tokenizer\n",
    "import re\n",
    "import string\n",
    "\n",
    "def custom_tokenizer(nlp):\n",
    "  prefix_re = re.compile(r'[.,;:?!(\\[\\'\"</]')\n",
    "  suffix_re = re.compile(r'[.,;:?!)\\]\\'\">■™]')\n",
    "  infix_re = re.compile(r'[-/+=&]')\n",
    "\n",
    "  return Tokenizer(\n",
    "        nlp.vocab,\n",
    "        prefix_search=prefix_re.search,\n",
    "        suffix_search=suffix_re.search,\n",
    "        infix_finditer=infix_re.finditer\n",
    "    )\n",
    "\n",
    "nlp.tokenizer = custom_tokenizer(nlp=nlp)"
   ]
  },
  {
   "cell_type": "code",
   "execution_count": 16,
   "metadata": {},
   "outputs": [],
   "source": [
    "from spacy.tokens import DocBin\n",
    "\n",
    "def save_to_disk(data, dir, filename):\n",
    "  db = DocBin()\n",
    "  for text, annotations in data:\n",
    "    doc = nlp(text)\n",
    "    # sentence_tokens = []\n",
    "    # for sent in doc.sents:\n",
    "    #   sentence_tokens.append([token.text for token in sent])\n",
    "    # print(sentence_tokens)\n",
    "    ents = []\n",
    "    for start, end, label in annotations:\n",
    "      span = doc.char_span(int(start), int(end), label=label)\n",
    "      if not span == None:\n",
    "        ents.append(span)\n",
    "      else:\n",
    "        print(\"none\", int(start), int(end), label)\n",
    "    # print(ents)\n",
    "    doc.ents = ents\n",
    "    db.add(doc)\n",
    "\n",
    "  db.to_disk(os.path.join(dir, filename))"
   ]
  },
  {
   "cell_type": "code",
   "execution_count": 17,
   "metadata": {},
   "outputs": [
    {
     "name": "stdout",
     "output_type": "stream",
     "text": [
      "none 1341 1351 bacteria\n",
      "none 1140 1145 statistical technique\n",
      "none 806 820 DDF\n",
      "none 1480 1499 DDF\n",
      "none 1614 1632 DDF\n",
      "none 1312 1354 bacteria\n",
      "none 141 158 DDF\n",
      "none 159 161 DDF\n",
      "none 1635 1648 bacteria\n",
      "none 1711 1725 bacteria\n",
      "none 1529 1547 bacteria\n",
      "none 504 508 chemical\n",
      "none 1278 1293 biomedical technique\n",
      "none 1312 1315 statistical technique\n",
      "none 1829 1831 DDF\n",
      "none 2147 2170 bacteria\n",
      "none 128 130 DDF\n",
      "none 941 945 chemical\n",
      "none 1060 1065 chemical\n",
      "none 717 721 DDF\n",
      "none 1034 1050 bacteria\n",
      "none 1067 1079 bacteria\n",
      "none 1096 1117 bacteria\n",
      "none 1134 1149 bacteria\n",
      "none 1166 1182 bacteria\n",
      "none 92 95 gene\n",
      "none 579 596 anatomical location\n",
      "none 439 445 chemical\n",
      "none 1091 1094 biomedical technique\n",
      "none 1110 1121 bacteria\n",
      "none 1067 1070 drug\n",
      "none 1220 1222 DDF\n",
      "none 1223 1225 DDF\n",
      "none 1777 1779 DDF\n",
      "none 1780 1782 DDF\n",
      "none 2112 2114 DDF\n",
      "none 2115 2117 DDF\n",
      "none 2422 2424 DDF\n",
      "none 2425 2427 DDF\n",
      "none 167 170 DDF\n",
      "none 359 381 human\n",
      "none 788 791 DDF\n",
      "none 806 828 human\n",
      "none 332 334 DDF\n",
      "none 1588 1607 DDF\n",
      "none 979 986 human\n",
      "none 418 422 chemical\n",
      "none 949 953 gene\n",
      "none 955 958 gene\n",
      "none 420 423 drug\n",
      "none 566 569 chemical\n",
      "none 1543 1554 DDF\n",
      "none 999 1003 DDF\n",
      "none 1005 1030 DDF\n",
      "none 364 368 chemical\n",
      "none 831 835 drug\n",
      "none 1266 1268 bacteria\n",
      "none 173 176 drug\n",
      "none 2097 2107 DDF\n",
      "none 514 530 chemical\n",
      "none 530 540 drug\n",
      "none 742 750 bacteria\n",
      "none 674 682 drug\n",
      "none 1531 1539 drug\n",
      "none 913 914 bacteria\n",
      "none 466 480 DDF\n",
      "none 679 695 DDF\n",
      "none 841 852 bacteria\n",
      "none 909 919 bacteria\n",
      "none 960 965 chemical\n",
      "none 1446 1447 chemical\n",
      "none 1449 1491 chemical\n",
      "none 147 151 microbiome\n",
      "none 2115 2131 DDF\n",
      "none 1402 1417 chemical\n",
      "none 439 463 chemical\n",
      "none 465 469 chemical\n",
      "none 471 487 chemical\n",
      "none 407 409 bacteria\n",
      "none 413 416 dietary supplement\n"
     ]
    }
   ],
   "source": [
    "save_to_disk(training_data, os.path.join(path,'TrainDocBin'), \"train_last_lg.spacy\")\n",
    "save_to_disk(dev_data, os.path.join(path,'DevDocBin'), \"dev_last_lg.spacy\")"
   ]
  },
  {
   "cell_type": "markdown",
   "metadata": {},
   "source": [
    "<a id='step2'></a>\n",
    "\n",
    "### STEP 2: prepare CUDA and PyTorch\n",
    "\n",
    "If your PC is already set up correctly, then skip to [step 3](#step3).\n",
    "\n",
    "#### Check if CUDA is available\n",
    "The instruction *torch.cuda.is_available()* checks if CUDA is avaiable for running the train on the GPU.\n",
    "If the answer if false, then it means either PyTorch or CUDA or both of them is not installed.\n",
    "\n",
    "#### Install PyTorch\n",
    "To install PyTorch, go to [this link](https://pytorch.org/get-started/locally/), select your preferences (in this case it is important to set a CUDA version as \"Compute Platform\" so that the code will run on the GPU) and then copy-paste the command into the following cell.\n",
    "\n",
    "It might be necessary to restart the runtime.\n",
    "\n",
    "After installing pythorch, *torch.cuda.is_available()* returns true."
   ]
  },
  {
   "cell_type": "code",
   "execution_count": null,
   "metadata": {},
   "outputs": [],
   "source": [
    "# Check if CUDA is available\n",
    "import torch\n",
    "\n",
    "print('is cuda available? ', torch.cuda.is_available())\n",
    "print(torch.__version__)\n",
    "!nvidia-smi"
   ]
  },
  {
   "cell_type": "markdown",
   "metadata": {},
   "source": [
    "<a id='step3'></a>\n",
    "\n",
    "### STEP 3: train the NER component\n",
    "\n",
    "#### Generate config.cfg file\n",
    "Generate the base_config.cfg configuration file that includes all the settings and hyperparameters.\n",
    "In this project the focus is to train only the ner component.\n",
    "The train will be optimized for accuracy over efficiency.\n",
    "Then, save the config to config.cfg file\n",
    "\n",
    "For this project the training is done with an NVIDIA GeForce 4060 laptop with 8GB of VRAM. \n",
    "\n",
    "#### Train en_core_web_trf NER component"
   ]
  },
  {
   "cell_type": "code",
   "execution_count": 50,
   "metadata": {},
   "outputs": [
    {
     "name": "stdout",
     "output_type": "stream",
     "text": [
      "\u001b[38;5;2m✔ Auto-filled config with all values\u001b[0m\n",
      "\u001b[38;5;2m✔ Saved config\u001b[0m\n",
      "config\\trf\\config.cfg\n",
      "You can now add your data and train your pipeline:\n",
      "python -m spacy train config.cfg --paths.train ./train.spacy --paths.dev ./dev.spacy\n"
     ]
    },
    {
     "name": "stderr",
     "output_type": "stream",
     "text": [
      "c:\\Users\\Manuel\\ata-project\\Lib\\site-packages\\transformers\\utils\\generic.py:441: FutureWarning: `torch.utils._pytree._register_pytree_node` is deprecated. Please use `torch.utils._pytree.register_pytree_node` instead.\n",
      "  _torch_pytree._register_pytree_node(\n",
      "c:\\Users\\Manuel\\ata-project\\Lib\\site-packages\\transformers\\utils\\generic.py:309: FutureWarning: `torch.utils._pytree._register_pytree_node` is deprecated. Please use `torch.utils._pytree.register_pytree_node` instead.\n",
      "  _torch_pytree._register_pytree_node(\n"
     ]
    }
   ],
   "source": [
    "!python -m spacy init fill-config ./config/trf/base_config.cfg ./config/trf/config.cfg"
   ]
  },
  {
   "cell_type": "code",
   "execution_count": null,
   "metadata": {},
   "outputs": [
    {
     "name": "stderr",
     "output_type": "stream",
     "text": [
      "c:\\Users\\Manuel\\ata-project\\Scripts\\python.exe: No module named prodigy\n"
     ]
    }
   ],
   "source": [
    "# !python -m prodigy spacy-config config.cfg --ner custom_tok_annotations --base-model custom_tokenizer"
   ]
  },
  {
   "cell_type": "code",
   "execution_count": null,
   "metadata": {},
   "outputs": [],
   "source": [
    "# import spacy\n",
    "# import spacy.training\n",
    "\n",
    "# # Load pre-trained model over which a new training for the ner component will be done\n",
    "# nlp = spacy.load(\"en_core_web_trf\")"
   ]
  },
  {
   "cell_type": "code",
   "execution_count": null,
   "metadata": {},
   "outputs": [
    {
     "name": "stdout",
     "output_type": "stream",
     "text": [
      "\u001b[38;5;4mℹ Saving to output directory: output\\trf-improve-tokenizer\u001b[0m\n",
      "\u001b[38;5;4mℹ Using GPU: 0\u001b[0m\n",
      "\u001b[1m\n",
      "=========================== Initializing pipeline ===========================\u001b[0m\n",
      "\u001b[38;5;2m✔ Initialized pipeline\u001b[0m\n",
      "\u001b[1m\n",
      "============================= Training pipeline =============================\u001b[0m\n",
      "\u001b[38;5;4mℹ Pipeline: ['transformer', 'ner']\u001b[0m\n",
      "\u001b[38;5;4mℹ Initial learn rate: 0.0\u001b[0m\n",
      "E    #       LOSS TRANS...  LOSS NER  ENTS_F  ENTS_P  ENTS_R  SCORE \n",
      "---  ------  -------------  --------  ------  ------  ------  ------\n",
      "  0       0         909.92   1280.13    0.21    0.12    0.81    0.00\n",
      "  0     200      196977.51  78137.02   67.24   65.08   69.56    0.67\n",
      "  1     400       48385.19  24469.14   79.55   77.55   81.65    0.80\n",
      "  2     600       16277.44  18497.41   77.29   74.65   80.13    0.77\n",
      "  3     800        9208.31  15503.75   80.71   77.76   83.89    0.81\n",
      "  3    1000        8040.32  14244.09   80.91   79.18   82.72    0.81\n",
      "  4    1200        6980.84  12304.42   78.61   75.41   82.09    0.79\n",
      "  5    1400        6619.55  11215.05   80.15   81.37   78.96    0.80\n",
      "  6    1600        5751.95  10174.93   80.27   77.04   83.80    0.80\n",
      "  7    1800        4907.28   8648.06   81.35   78.89   83.97    0.81\n",
      "  7    2000        4677.79   7962.78   81.15   82.97   79.41    0.81\n",
      "  8    2200        4382.66   7046.26   80.54   77.75   83.53    0.81\n",
      "  9    2400        4072.29   6229.28   79.43   76.17   82.99    0.79\n",
      " 10    2600        3129.90   5122.74   80.86   82.36   79.41    0.81\n",
      " 10    2800        3178.64   4911.26   79.81   75.68   84.42    0.80\n",
      " 11    3000        2975.46   4251.73   79.01   75.18   83.26    0.79\n",
      " 12    3200        2735.58   3939.95   80.11   80.36   79.86    0.80\n",
      " 13    3400        2343.54   3529.59   80.46   79.82   81.11    0.80\n",
      "\u001b[38;5;2m✔ Saved pipeline to output directory\u001b[0m\n",
      "output\\trf-improve-tokenizer\\model-last\n"
     ]
    },
    {
     "name": "stderr",
     "output_type": "stream",
     "text": [
      "c:\\Users\\Manuel\\ata-project\\Lib\\site-packages\\transformers\\utils\\generic.py:441: FutureWarning: `torch.utils._pytree._register_pytree_node` is deprecated. Please use `torch.utils._pytree.register_pytree_node` instead.\n",
      "  _torch_pytree._register_pytree_node(\n",
      "c:\\Users\\Manuel\\ata-project\\Lib\\site-packages\\transformers\\utils\\generic.py:309: FutureWarning: `torch.utils._pytree._register_pytree_node` is deprecated. Please use `torch.utils._pytree.register_pytree_node` instead.\n",
      "  _torch_pytree._register_pytree_node(\n",
      "c:\\Users\\Manuel\\ata-project\\Lib\\site-packages\\huggingface_hub\\file_download.py:795: FutureWarning: `resume_download` is deprecated and will be removed in version 1.0.0. Downloads always resume when possible. If you want to force a new download, use `force_download=True`.\n",
      "  warnings.warn(\n",
      "c:\\Users\\Manuel\\ata-project\\Lib\\site-packages\\transformers\\utils\\generic.py:309: FutureWarning: `torch.utils._pytree._register_pytree_node` is deprecated. Please use `torch.utils._pytree.register_pytree_node` instead.\n",
      "  _torch_pytree._register_pytree_node(\n",
      "Some weights of RobertaModel were not initialized from the model checkpoint at roberta-base and are newly initialized: ['roberta.pooler.dense.weight', 'roberta.pooler.dense.bias']\n",
      "You should probably TRAIN this model on a down-stream task to be able to use it for predictions and inference.\n"
     ]
    }
   ],
   "source": [
    "!python -m spacy train ./config/trf/config.cfg --output ./output/trf-improve-tokenizer --paths.train ./TrainDocBin/train.spacy --paths.dev ./DevDocBin/dev.spacy --gpu-id 0"
   ]
  },
  {
   "cell_type": "code",
   "execution_count": null,
   "metadata": {},
   "outputs": [],
   "source": [
    "unique_labels = set()\n",
    "\n",
    "for example in dev_data:\n",
    "\tentities = example[1]\n",
    "\tfor entity in entities:\n",
    "\t\tentity_label = entity[2]\n",
    "\t\tunique_labels.add(entity_label)\n",
    "        \n",
    "unique_labels_list = list(unique_labels)\n",
    "\n",
    "print('Entities to be recognised in the provided data: ')\n",
    "print(unique_labels_list)"
   ]
  },
  {
   "cell_type": "markdown",
   "metadata": {},
   "source": [
    "### STEP 3.1: evaluate best model"
   ]
  },
  {
   "cell_type": "code",
   "execution_count": 1,
   "metadata": {},
   "outputs": [
    {
     "name": "stdout",
     "output_type": "stream",
     "text": [
      "\u001b[38;5;4mℹ Using GPU: 0\u001b[0m\n",
      "\u001b[1m\n",
      "================================== Results ==================================\u001b[0m\n",
      "\n",
      "TOK     99.74\n",
      "NER P   78.89\n",
      "NER R   83.97\n",
      "NER F   81.35\n",
      "SPEED   1331 \n",
      "\n",
      "\u001b[1m\n",
      "=============================== NER (per type) ===============================\u001b[0m\n",
      "\n",
      "                            P       R       F\n",
      "microbiome              86.52   96.06   91.04\n",
      "DDF                     86.20   87.34   86.76\n",
      "drug                    89.47   85.00   87.18\n",
      "bacteria                70.91   72.22   71.56\n",
      "human                   92.31   97.67   94.92\n",
      "anatomical location     83.33   92.11   87.50\n",
      "chemical                58.38   82.44   68.35\n",
      "biomedical technique    53.49   63.89   58.23\n",
      "gene                    30.43   17.95   22.58\n",
      "statistical technique   33.33   66.67   44.44\n",
      "animal                  94.52   94.52   94.52\n",
      "dietary supplement      61.76   77.78   68.85\n",
      "food                    84.62   42.31   56.41\n",
      "\n"
     ]
    },
    {
     "name": "stderr",
     "output_type": "stream",
     "text": [
      "c:\\Users\\Manuel\\ata-project\\Lib\\site-packages\\transformers\\utils\\generic.py:441: FutureWarning: `torch.utils._pytree._register_pytree_node` is deprecated. Please use `torch.utils._pytree.register_pytree_node` instead.\n",
      "  _torch_pytree._register_pytree_node(\n",
      "c:\\Users\\Manuel\\ata-project\\Lib\\site-packages\\transformers\\utils\\generic.py:309: FutureWarning: `torch.utils._pytree._register_pytree_node` is deprecated. Please use `torch.utils._pytree.register_pytree_node` instead.\n",
      "  _torch_pytree._register_pytree_node(\n",
      "c:\\Users\\Manuel\\ata-project\\Lib\\site-packages\\transformers\\utils\\generic.py:309: FutureWarning: `torch.utils._pytree._register_pytree_node` is deprecated. Please use `torch.utils._pytree.register_pytree_node` instead.\n",
      "  _torch_pytree._register_pytree_node(\n",
      "c:\\Users\\Manuel\\ata-project\\Lib\\site-packages\\spacy_transformers\\layers\\hf_shim.py:124: FutureWarning: You are using `torch.load` with `weights_only=False` (the current default value), which uses the default pickle module implicitly. It is possible to construct malicious pickle data which will execute arbitrary code during unpickling (See https://github.com/pytorch/pytorch/blob/main/SECURITY.md#untrusted-models for more details). In a future release, the default value for `weights_only` will be flipped to `True`. This limits the functions that could be executed during unpickling. Arbitrary objects will no longer be allowed to be loaded via this mode unless they are explicitly allowlisted by the user via `torch.serialization.add_safe_globals`. We recommend you start setting `weights_only=True` for any use case where you don't have full control of the loaded file. Please open an issue on GitHub for any issues related to this experimental feature.\n",
      "  self._model.load_state_dict(torch.load(filelike, map_location=device))\n"
     ]
    }
   ],
   "source": [
    "!spacy evaluate ./output/trf-improve-tokenizer/model-best/ ./DevDocBin/dev.spacy --gpu-id 0"
   ]
  },
  {
   "cell_type": "markdown",
   "metadata": {},
   "source": [
    "<a id='step3'></a>\n",
    "\n",
    "### STEP 3: attach the trained NER comopnent to the original model\n",
    "In the following cell, the trained NER component will be integrated into the original en_core_web_trf model. This combination will allow the final model to label words using a set that includes both the original labels and the newly trained ones."
   ]
  },
  {
   "cell_type": "code",
   "execution_count": null,
   "metadata": {},
   "outputs": [],
   "source": [
    "# Load original model\n",
    "nlp = spacy.load(\"en_core_web_trf\")\n",
    "# Load trained model\n",
    "trained_nlp = spacy.load('./output/model-best')\n",
    "\n",
    "trained_nlp.replace_listeners(\"transformer\", \"ner\", [\"model.tok2vec\"])\n",
    "\n",
    "nlp.add_pipe(\n",
    "  \"ner\",\n",
    "  name=\"trained_ner\",\n",
    "  source=trained_nlp,\n",
    "  before=\"ner\",\n",
    ")\n",
    "\n",
    "print(nlp.pipe_names)"
   ]
  },
  {
   "cell_type": "code",
   "execution_count": null,
   "metadata": {},
   "outputs": [],
   "source": [
    "import spacy.displacy\n",
    "\n",
    "\n",
    "doc = nlp(\"Doc here\")\n",
    "spacy.displacy.render(doc, style=\"ent\", jupyter=True)"
   ]
  },
  {
   "cell_type": "markdown",
   "metadata": {},
   "source": [
    "STEP 4: train using the en_core_web_lg model"
   ]
  },
  {
   "cell_type": "code",
   "execution_count": null,
   "metadata": {},
   "outputs": [],
   "source": []
  },
  {
   "cell_type": "markdown",
   "metadata": {},
   "source": [
    "### FINAL: output of best models"
   ]
  },
  {
   "cell_type": "markdown",
   "metadata": {},
   "source": [
    "| Pipeline | .spacy creation | Params | TOK | NER P | NER R | NER F |\n",
    "| --- | --- | --- | --- | --- | --- | --- |\n",
    "| en_core_web_trf | Base | Base | 99.90 | 83.58 | 80.20 | 81.86 |\n",
    "| en_core_web_lg | Base | Base | 99.90 | 81.62 | 72.73 | 76.92 |\n",
    "| en_core_web_lg | improved tokenizer | Base | 99.74 | 78.29 | 74.57 | 76.39 |\n",
    "| en_core_web_trf | updated tokenizer | Base + change config | 90.71 | 80.98 | 81.56 | 81.27 |\n",
    "| en_core_web_trf | improved tokenizer | Base + change config | 99.74 | 78.89 | 83.97 | 81.35 |"
   ]
  },
  {
   "cell_type": "markdown",
   "metadata": {},
   "source": []
  }
 ],
 "metadata": {
  "kernelspec": {
   "display_name": "ata-project",
   "language": "python",
   "name": "python3"
  },
  "language_info": {
   "codemirror_mode": {
    "name": "ipython",
    "version": 3
   },
   "file_extension": ".py",
   "mimetype": "text/x-python",
   "name": "python",
   "nbconvert_exporter": "python",
   "pygments_lexer": "ipython3",
   "version": "3.12.7"
  }
 },
 "nbformat": 4,
 "nbformat_minor": 2
}
