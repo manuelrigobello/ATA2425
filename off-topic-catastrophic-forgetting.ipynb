{
 "cells": [
  {
   "cell_type": "markdown",
   "id": "b3e91fe3",
   "metadata": {},
   "source": [
    "To address the [\"catastrophic forgetting\" problem](https://en.wikipedia.org/wiki/Catastrophic_interference), the trained ner component will be attached to a pre-trained model, the same one used for training the component, so that the output of the model will contain labels that can be assigned either by the original ner or by the trained ner component. Another possible solution could be performing a [\"rehease\"](https://spacy.io/api/language#rehearse), but in this project it is not explored."
   ]
  },
  {
   "cell_type": "code",
   "execution_count": null,
   "id": "e731e0b5",
   "metadata": {},
   "outputs": [],
   "source": [
    "import spacy\n",
    "\n",
    "# Load original model\n",
    "nlp = spacy.load(\"en_core_web_trf\")\n",
    "# Load trained model\n",
    "trained_nlp = spacy.load('en_core_web_trf') # NOTE: set correct path\n",
    "\n",
    "trained_nlp.replace_listeners(\"transformer\", \"ner\", [\"model.tok2vec\"])\n",
    "\n",
    "nlp.add_pipe(\n",
    "  \"ner\",\n",
    "  name=\"trained_ner\",\n",
    "  source=trained_nlp,\n",
    "  before=\"ner\",\n",
    ")\n",
    "\n",
    "print(nlp.pipe_names)"
   ]
  },
  {
   "cell_type": "code",
   "execution_count": null,
   "id": "5a7bbd37",
   "metadata": {},
   "outputs": [],
   "source": [
    "import spacy.displacy\n",
    "\n",
    "doc = nlp(\"Doc here\")\n",
    "spacy.displacy.render(doc, style=\"ent\", jupyter=True)"
   ]
  }
 ],
 "metadata": {
  "kernelspec": {
   "display_name": "ata-project",
   "language": "python",
   "name": "python3"
  },
  "language_info": {
   "codemirror_mode": {
    "name": "ipython",
    "version": 3
   },
   "file_extension": ".py",
   "mimetype": "text/x-python",
   "name": "python",
   "nbconvert_exporter": "python",
   "pygments_lexer": "ipython3",
   "version": "3.12.7"
  }
 },
 "nbformat": 4,
 "nbformat_minor": 5
}
